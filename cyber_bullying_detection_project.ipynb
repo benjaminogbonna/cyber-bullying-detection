{
 "cells": [
  {
   "cell_type": "markdown",
   "id": "3bd1a157",
   "metadata": {},
   "source": [
    "# Cyber Bullying Detection Project"
   ]
  },
  {
   "cell_type": "markdown",
   "id": "bb52b54c",
   "metadata": {},
   "source": [
    "## Notebook imports"
   ]
  },
  {
   "cell_type": "code",
   "execution_count": 405,
   "id": "01f99c73",
   "metadata": {},
   "outputs": [],
   "source": [
    "import pandas as pd\n",
    "import numpy as np\n",
    "import matplotlib.pyplot as plt\n",
    "%matplotlib inline\n",
    "plt.style.use('fivethirtyeight')\n",
    "import seaborn as sns\n",
    "from nltk.corpus import stopwords \n",
    "from nltk.tokenize import word_tokenize\n",
    "import string \n",
    "from nltk.stem import WordNetLemmatizer\n",
    "import sklearn"
   ]
  },
  {
   "cell_type": "markdown",
   "id": "85be99a2",
   "metadata": {},
   "source": [
    "## Getting the data, cleaning and processing"
   ]
  },
  {
   "cell_type": "code",
   "execution_count": 406,
   "id": "4f6e678a",
   "metadata": {},
   "outputs": [
    {
     "data": {
      "text/html": [
       "<div>\n",
       "<style scoped>\n",
       "    .dataframe tbody tr th:only-of-type {\n",
       "        vertical-align: middle;\n",
       "    }\n",
       "\n",
       "    .dataframe tbody tr th {\n",
       "        vertical-align: top;\n",
       "    }\n",
       "\n",
       "    .dataframe thead th {\n",
       "        text-align: right;\n",
       "    }\n",
       "</style>\n",
       "<table border=\"1\" class=\"dataframe\">\n",
       "  <thead>\n",
       "    <tr style=\"text-align: right;\">\n",
       "      <th></th>\n",
       "      <th>Tweets</th>\n",
       "      <th>Label</th>\n",
       "    </tr>\n",
       "  </thead>\n",
       "  <tbody>\n",
       "    <tr>\n",
       "      <th>0</th>\n",
       "      <td>halalflaws biebervalue greenlinerzjm i read t...</td>\n",
       "      <td>0</td>\n",
       "    </tr>\n",
       "    <tr>\n",
       "      <th>1</th>\n",
       "      <td>shreyabafna3 now you idiots claim that people...</td>\n",
       "      <td>0</td>\n",
       "    </tr>\n",
       "    <tr>\n",
       "      <th>2</th>\n",
       "      <td>rt mooseoftorment call me sexist but when i go...</td>\n",
       "      <td>1</td>\n",
       "    </tr>\n",
       "    <tr>\n",
       "      <th>3</th>\n",
       "      <td>g0ssipsquirrelx wrong isis follows the exampl...</td>\n",
       "      <td>1</td>\n",
       "    </tr>\n",
       "    <tr>\n",
       "      <th>4</th>\n",
       "      <td>mkr no no no no no no</td>\n",
       "      <td>0</td>\n",
       "    </tr>\n",
       "    <tr>\n",
       "      <th>5</th>\n",
       "      <td>rt trobinsonnewera http t co nkkcbpcheo saudi ...</td>\n",
       "      <td>0</td>\n",
       "    </tr>\n",
       "    <tr>\n",
       "      <th>6</th>\n",
       "      <td>rt millhouse66 maureen_js nooo not sexist but ...</td>\n",
       "      <td>1</td>\n",
       "    </tr>\n",
       "    <tr>\n",
       "      <th>7</th>\n",
       "      <td>going to make some pancakes don t hve any stra...</td>\n",
       "      <td>0</td>\n",
       "    </tr>\n",
       "    <tr>\n",
       "      <th>8</th>\n",
       "      <td>rt ahtweet freebsdgirl how dare you have feeli...</td>\n",
       "      <td>0</td>\n",
       "    </tr>\n",
       "    <tr>\n",
       "      <th>9</th>\n",
       "      <td>rt newmanzaa there s something wrong when a gi...</td>\n",
       "      <td>1</td>\n",
       "    </tr>\n",
       "  </tbody>\n",
       "</table>\n",
       "</div>"
      ],
      "text/plain": [
       "                                              Tweets  Label\n",
       "0   halalflaws biebervalue greenlinerzjm i read t...      0\n",
       "1   shreyabafna3 now you idiots claim that people...      0\n",
       "2  rt mooseoftorment call me sexist but when i go...      1\n",
       "3   g0ssipsquirrelx wrong isis follows the exampl...      1\n",
       "4                              mkr no no no no no no      0\n",
       "5  rt trobinsonnewera http t co nkkcbpcheo saudi ...      0\n",
       "6  rt millhouse66 maureen_js nooo not sexist but ...      1\n",
       "7  going to make some pancakes don t hve any stra...      0\n",
       "8  rt ahtweet freebsdgirl how dare you have feeli...      0\n",
       "9  rt newmanzaa there s something wrong when a gi...      1"
      ]
     },
     "execution_count": 406,
     "metadata": {},
     "output_type": "execute_result"
    }
   ],
   "source": [
    "dataframe = pd.read_csv(\"data/processed_data.csv\")\n",
    "\n",
    "# show some columns of the dataset\n",
    "dataframe.head(10)"
   ]
  },
  {
   "cell_type": "code",
   "execution_count": 407,
   "id": "d91401a6",
   "metadata": {},
   "outputs": [
    {
     "data": {
      "text/html": [
       "<div>\n",
       "<style scoped>\n",
       "    .dataframe tbody tr th:only-of-type {\n",
       "        vertical-align: middle;\n",
       "    }\n",
       "\n",
       "    .dataframe tbody tr th {\n",
       "        vertical-align: top;\n",
       "    }\n",
       "\n",
       "    .dataframe thead th {\n",
       "        text-align: right;\n",
       "    }\n",
       "</style>\n",
       "<table border=\"1\" class=\"dataframe\">\n",
       "  <thead>\n",
       "    <tr style=\"text-align: right;\">\n",
       "      <th></th>\n",
       "      <th>Tweets</th>\n",
       "      <th>Label</th>\n",
       "    </tr>\n",
       "  </thead>\n",
       "  <tbody>\n",
       "    <tr>\n",
       "      <th>58596</th>\n",
       "      <td>Her pussy so good like I left something</td>\n",
       "      <td>1</td>\n",
       "    </tr>\n",
       "    <tr>\n",
       "      <th>58597</th>\n",
       "      <td>Her pussy sweeter then some fresh fruit &amp;#1285...</td>\n",
       "      <td>1</td>\n",
       "    </tr>\n",
       "    <tr>\n",
       "      <th>58598</th>\n",
       "      <td>Her pussy wet I call it Fiji water</td>\n",
       "      <td>1</td>\n",
       "    </tr>\n",
       "    <tr>\n",
       "      <th>58599</th>\n",
       "      <td>Here I go! Welcome to the titty show. Typa ass...</td>\n",
       "      <td>1</td>\n",
       "    </tr>\n",
       "    <tr>\n",
       "      <th>58600</th>\n",
       "      <td>Here some kimora boobies for you &amp;#128139; &amp;#1...</td>\n",
       "      <td>1</td>\n",
       "    </tr>\n",
       "    <tr>\n",
       "      <th>58601</th>\n",
       "      <td>Here this bitch go ... Lol</td>\n",
       "      <td>1</td>\n",
       "    </tr>\n",
       "    <tr>\n",
       "      <th>58602</th>\n",
       "      <td>Here this nigga go RT @ZigzagsxKush: Damn dark...</td>\n",
       "      <td>1</td>\n",
       "    </tr>\n",
       "    <tr>\n",
       "      <th>58603</th>\n",
       "      <td>Here we go brownies here we go! WOOF WOOF!</td>\n",
       "      <td>0</td>\n",
       "    </tr>\n",
       "    <tr>\n",
       "      <th>58604</th>\n",
       "      <td>Here we go this fat bitch started talking and ...</td>\n",
       "      <td>1</td>\n",
       "    </tr>\n",
       "    <tr>\n",
       "      <th>58605</th>\n",
       "      <td>Here yall hoes go dicc ridin</td>\n",
       "      <td>1</td>\n",
       "    </tr>\n",
       "  </tbody>\n",
       "</table>\n",
       "</div>"
      ],
      "text/plain": [
       "                                                  Tweets  Label\n",
       "58596            Her pussy so good like I left something      1\n",
       "58597  Her pussy sweeter then some fresh fruit &#1285...      1\n",
       "58598                 Her pussy wet I call it Fiji water      1\n",
       "58599  Here I go! Welcome to the titty show. Typa ass...      1\n",
       "58600  Here some kimora boobies for you &#128139; &#1...      1\n",
       "58601                         Here this bitch go ... Lol      1\n",
       "58602  Here this nigga go RT @ZigzagsxKush: Damn dark...      1\n",
       "58603         Here we go brownies here we go! WOOF WOOF!      0\n",
       "58604  Here we go this fat bitch started talking and ...      1\n",
       "58605                       Here yall hoes go dicc ridin      1"
      ]
     },
     "execution_count": 407,
     "metadata": {},
     "output_type": "execute_result"
    }
   ],
   "source": [
    "dataframe.tail(10)"
   ]
  },
  {
   "cell_type": "markdown",
   "id": "a2ef17d8",
   "metadata": {},
   "source": [
    "## Get dataset info"
   ]
  },
  {
   "cell_type": "code",
   "execution_count": 408,
   "id": "98c54e1a",
   "metadata": {},
   "outputs": [
    {
     "name": "stdout",
     "output_type": "stream",
     "text": [
      "<class 'pandas.core.frame.DataFrame'>\n",
      "Int64Index: 58606 entries, 0 to 58605\n",
      "Data columns (total 2 columns):\n",
      " #   Column  Non-Null Count  Dtype \n",
      "---  ------  --------------  ----- \n",
      " 0   Tweets  58606 non-null  object\n",
      " 1   Label   58606 non-null  int64 \n",
      "dtypes: int64(1), object(1)\n",
      "memory usage: 1.3+ MB\n"
     ]
    }
   ],
   "source": [
    "dataframe.info()"
   ]
  },
  {
   "cell_type": "markdown",
   "id": "c556d64d",
   "metadata": {},
   "source": [
    "## Get statistical description of dataset (numerical values): mean, std, max, min, etc.\n"
   ]
  },
  {
   "cell_type": "code",
   "execution_count": 409,
   "id": "6c9ca7a9",
   "metadata": {},
   "outputs": [
    {
     "data": {
      "text/html": [
       "<div>\n",
       "<style scoped>\n",
       "    .dataframe tbody tr th:only-of-type {\n",
       "        vertical-align: middle;\n",
       "    }\n",
       "\n",
       "    .dataframe tbody tr th {\n",
       "        vertical-align: top;\n",
       "    }\n",
       "\n",
       "    .dataframe thead th {\n",
       "        text-align: right;\n",
       "    }\n",
       "</style>\n",
       "<table border=\"1\" class=\"dataframe\">\n",
       "  <thead>\n",
       "    <tr style=\"text-align: right;\">\n",
       "      <th></th>\n",
       "      <th>Label</th>\n",
       "    </tr>\n",
       "  </thead>\n",
       "  <tbody>\n",
       "    <tr>\n",
       "      <th>count</th>\n",
       "      <td>58606.000000</td>\n",
       "    </tr>\n",
       "    <tr>\n",
       "      <th>mean</th>\n",
       "      <td>0.268403</td>\n",
       "    </tr>\n",
       "    <tr>\n",
       "      <th>std</th>\n",
       "      <td>0.443132</td>\n",
       "    </tr>\n",
       "    <tr>\n",
       "      <th>min</th>\n",
       "      <td>0.000000</td>\n",
       "    </tr>\n",
       "    <tr>\n",
       "      <th>25%</th>\n",
       "      <td>0.000000</td>\n",
       "    </tr>\n",
       "    <tr>\n",
       "      <th>50%</th>\n",
       "      <td>0.000000</td>\n",
       "    </tr>\n",
       "    <tr>\n",
       "      <th>75%</th>\n",
       "      <td>1.000000</td>\n",
       "    </tr>\n",
       "    <tr>\n",
       "      <th>max</th>\n",
       "      <td>1.000000</td>\n",
       "    </tr>\n",
       "  </tbody>\n",
       "</table>\n",
       "</div>"
      ],
      "text/plain": [
       "              Label\n",
       "count  58606.000000\n",
       "mean       0.268403\n",
       "std        0.443132\n",
       "min        0.000000\n",
       "25%        0.000000\n",
       "50%        0.000000\n",
       "75%        1.000000\n",
       "max        1.000000"
      ]
     },
     "execution_count": 409,
     "metadata": {},
     "output_type": "execute_result"
    }
   ],
   "source": [
    "dataframe.describe()"
   ]
  },
  {
   "cell_type": "markdown",
   "id": "c9496438",
   "metadata": {},
   "source": [
    "## check if any entry in our dataset is empty (has a null value)\n"
   ]
  },
  {
   "cell_type": "code",
   "execution_count": 410,
   "id": "68707f43",
   "metadata": {},
   "outputs": [
    {
     "data": {
      "text/plain": [
       "0"
      ]
     },
     "execution_count": 410,
     "metadata": {},
     "output_type": "execute_result"
    }
   ],
   "source": [
    "dataframe.Label.isnull().sum()"
   ]
  },
  {
   "cell_type": "markdown",
   "id": "95f37dbc",
   "metadata": {},
   "source": [
    "## Get the total number of null rows in the data\n"
   ]
  },
  {
   "cell_type": "code",
   "execution_count": 411,
   "id": "c4424f00",
   "metadata": {},
   "outputs": [
    {
     "data": {
      "text/html": [
       "<div>\n",
       "<style scoped>\n",
       "    .dataframe tbody tr th:only-of-type {\n",
       "        vertical-align: middle;\n",
       "    }\n",
       "\n",
       "    .dataframe tbody tr th {\n",
       "        vertical-align: top;\n",
       "    }\n",
       "\n",
       "    .dataframe thead th {\n",
       "        text-align: right;\n",
       "    }\n",
       "</style>\n",
       "<table border=\"1\" class=\"dataframe\">\n",
       "  <thead>\n",
       "    <tr style=\"text-align: right;\">\n",
       "      <th></th>\n",
       "      <th>Tweets</th>\n",
       "      <th>Label</th>\n",
       "    </tr>\n",
       "  </thead>\n",
       "  <tbody>\n",
       "  </tbody>\n",
       "</table>\n",
       "</div>"
      ],
      "text/plain": [
       "Empty DataFrame\n",
       "Columns: [Tweets, Label]\n",
       "Index: []"
      ]
     },
     "execution_count": 411,
     "metadata": {},
     "output_type": "execute_result"
    }
   ],
   "source": [
    "null_data = dataframe[dataframe.isnull().any(axis=1)]\n",
    "\n",
    "null_data  # returns an empty table"
   ]
  },
  {
   "cell_type": "markdown",
   "id": "41a236b4",
   "metadata": {},
   "source": [
    "## Visualizing our Data"
   ]
  },
  {
   "cell_type": "code",
   "execution_count": 412,
   "id": "ec89754f",
   "metadata": {},
   "outputs": [
    {
     "data": {
      "text/plain": [
       "Text(0.5, 1.0, 'Class Distributions \\n 0: Normal      1: Bully')"
      ]
     },
     "execution_count": 412,
     "metadata": {},
     "output_type": "execute_result"
    },
    {
     "data": {
      "image/png": "[encoded data removed]",
      "text/plain": [
       "<Figure size 576x432 with 1 Axes>"
      ]
     },
     "metadata": {},
     "output_type": "display_data"
    }
   ],
   "source": [
    "colors = [\"#0101DF\", \"#DF0101\"]\n",
    "\n",
    "plt.figure(figsize=(8, 6))\n",
    "sns.countplot(x='Label', data=dataframe, palette=colors)\n",
    "plt.title('Class Distributions \\n 0: Normal      1: Bully', fontsize=14, color='k')"
   ]
  },
  {
   "cell_type": "code",
   "execution_count": 413,
   "id": "4c24914f",
   "metadata": {},
   "outputs": [
    {
     "data": {
      "image/png": "[encoded data removed]",
      "text/plain": [
       "<Figure size 720x720 with 1 Axes>"
      ]
     },
     "metadata": {},
     "output_type": "display_data"
    }
   ],
   "source": [
    "category_names = ['Non Bully', 'Bully']\n",
    "sizes = [dataframe.Label.value_counts()[0], dataframe.Label.value_counts()[1]]\n",
    "\n",
    "plt.figure(figsize=(10,10))\n",
    "plt.pie(sizes, labels=category_names, autopct='%1.1f%%', explode=[0, 0.05], textprops={'fontsize': 20})\n",
    "plt.show()"
   ]
  },
  {
   "cell_type": "markdown",
   "id": "47ef478b",
   "metadata": {},
   "source": [
    "# Cleaning the data\n",
    "\n",
    "## Clean the text data by stripping it of all unwanted characters: @, #, &, etc.\n"
   ]
  },
  {
   "cell_type": "code",
   "execution_count": 414,
   "id": "18e486f0",
   "metadata": {},
   "outputs": [],
   "source": [
    "import re\n",
    "def preprocessor(text):\n",
    "    text = re.sub('<[^>]*>', '', text)\n",
    "    emoticons = re.findall('(?::|;|=)(?:-)?(?:\\)|\\(|D|P)', text)\n",
    "    text = (re.sub('[\\W]+', ' ', text.lower()) + \n",
    "            ' '.join(emoticons).replace('-', ''))\n",
    "    return text"
   ]
  },
  {
   "cell_type": "code",
   "execution_count": 415,
   "id": "df74eb21",
   "metadata": {},
   "outputs": [
    {
     "data": {
      "text/plain": [
       "' halalflaws biebervalue greenlinerzjm i read them in context no change in meaning the history of islamic slavery https t co xwjzpsodgj'"
      ]
     },
     "execution_count": 415,
     "metadata": {},
     "output_type": "execute_result"
    }
   ],
   "source": [
    "# example before cleaning\n",
    "\n",
    "dataframe.loc[0, 'Tweets']"
   ]
  },
  {
   "cell_type": "code",
   "execution_count": 416,
   "id": "9f3794f7",
   "metadata": {},
   "outputs": [
    {
     "data": {
      "text/plain": [
       "' halalflaws biebervalue greenlinerzjm i read them in context no change in meaning the history of islamic slavery https t co xwjzpsodgj'"
      ]
     },
     "execution_count": 416,
     "metadata": {},
     "output_type": "execute_result"
    }
   ],
   "source": [
    "# after cleaning\n",
    "\n",
    "preprocessor(dataframe.loc[0, 'Tweets'])"
   ]
  },
  {
   "cell_type": "code",
   "execution_count": 417,
   "id": "89c1c8f2",
   "metadata": {},
   "outputs": [],
   "source": [
    "# applying the preprocessor to out data\n",
    "dataframe['Tweets'] = dataframe['Tweets'].apply(preprocessor)"
   ]
  },
  {
   "cell_type": "markdown",
   "id": "8397ed1b",
   "metadata": {},
   "source": [
    "## Special characters removed"
   ]
  },
  {
   "cell_type": "code",
   "execution_count": 418,
   "id": "bb75d5cb",
   "metadata": {},
   "outputs": [
    {
     "data": {
      "text/html": [
       "<div>\n",
       "<style scoped>\n",
       "    .dataframe tbody tr th:only-of-type {\n",
       "        vertical-align: middle;\n",
       "    }\n",
       "\n",
       "    .dataframe tbody tr th {\n",
       "        vertical-align: top;\n",
       "    }\n",
       "\n",
       "    .dataframe thead th {\n",
       "        text-align: right;\n",
       "    }\n",
       "</style>\n",
       "<table border=\"1\" class=\"dataframe\">\n",
       "  <thead>\n",
       "    <tr style=\"text-align: right;\">\n",
       "      <th></th>\n",
       "      <th>Tweets</th>\n",
       "      <th>Label</th>\n",
       "    </tr>\n",
       "  </thead>\n",
       "  <tbody>\n",
       "    <tr>\n",
       "      <th>0</th>\n",
       "      <td>halalflaws biebervalue greenlinerzjm i read t...</td>\n",
       "      <td>0</td>\n",
       "    </tr>\n",
       "    <tr>\n",
       "      <th>1</th>\n",
       "      <td>shreyabafna3 now you idiots claim that people...</td>\n",
       "      <td>0</td>\n",
       "    </tr>\n",
       "    <tr>\n",
       "      <th>2</th>\n",
       "      <td>rt mooseoftorment call me sexist but when i go...</td>\n",
       "      <td>1</td>\n",
       "    </tr>\n",
       "    <tr>\n",
       "      <th>3</th>\n",
       "      <td>g0ssipsquirrelx wrong isis follows the exampl...</td>\n",
       "      <td>1</td>\n",
       "    </tr>\n",
       "    <tr>\n",
       "      <th>4</th>\n",
       "      <td>mkr no no no no no no</td>\n",
       "      <td>0</td>\n",
       "    </tr>\n",
       "    <tr>\n",
       "      <th>5</th>\n",
       "      <td>rt trobinsonnewera http t co nkkcbpcheo saudi ...</td>\n",
       "      <td>0</td>\n",
       "    </tr>\n",
       "    <tr>\n",
       "      <th>6</th>\n",
       "      <td>rt millhouse66 maureen_js nooo not sexist but ...</td>\n",
       "      <td>1</td>\n",
       "    </tr>\n",
       "    <tr>\n",
       "      <th>7</th>\n",
       "      <td>going to make some pancakes don t hve any stra...</td>\n",
       "      <td>0</td>\n",
       "    </tr>\n",
       "    <tr>\n",
       "      <th>8</th>\n",
       "      <td>rt ahtweet freebsdgirl how dare you have feeli...</td>\n",
       "      <td>0</td>\n",
       "    </tr>\n",
       "    <tr>\n",
       "      <th>9</th>\n",
       "      <td>rt newmanzaa there s something wrong when a gi...</td>\n",
       "      <td>1</td>\n",
       "    </tr>\n",
       "  </tbody>\n",
       "</table>\n",
       "</div>"
      ],
      "text/plain": [
       "                                              Tweets  Label\n",
       "0   halalflaws biebervalue greenlinerzjm i read t...      0\n",
       "1   shreyabafna3 now you idiots claim that people...      0\n",
       "2  rt mooseoftorment call me sexist but when i go...      1\n",
       "3   g0ssipsquirrelx wrong isis follows the exampl...      1\n",
       "4                              mkr no no no no no no      0\n",
       "5  rt trobinsonnewera http t co nkkcbpcheo saudi ...      0\n",
       "6  rt millhouse66 maureen_js nooo not sexist but ...      1\n",
       "7  going to make some pancakes don t hve any stra...      0\n",
       "8  rt ahtweet freebsdgirl how dare you have feeli...      0\n",
       "9  rt newmanzaa there s something wrong when a gi...      1"
      ]
     },
     "execution_count": 418,
     "metadata": {},
     "output_type": "execute_result"
    }
   ],
   "source": [
    "dataframe.head(10)"
   ]
  },
  {
   "cell_type": "markdown",
   "id": "240fc9f8",
   "metadata": {},
   "source": [
    "## Processing Tweets into tokens (tokenization)"
   ]
  },
  {
   "cell_type": "code",
   "execution_count": 419,
   "id": "43db4529",
   "metadata": {},
   "outputs": [
    {
     "data": {
      "text/plain": [
       "['runners', 'like', 'running', 'and', 'thus', 'they', 'run']"
      ]
     },
     "execution_count": 419,
     "metadata": {},
     "output_type": "execute_result"
    }
   ],
   "source": [
    "def tokenizer(text):\n",
    "    return text.split()\n",
    "\n",
    "tokenizer('runners like running and thus they run')"
   ]
  },
  {
   "cell_type": "code",
   "execution_count": 420,
   "id": "fce1c1f5",
   "metadata": {},
   "outputs": [
    {
     "data": {
      "text/plain": [
       "['runner', 'like', 'run', 'and', 'thu', 'they', 'run']"
      ]
     },
     "execution_count": 420,
     "metadata": {},
     "output_type": "execute_result"
    }
   ],
   "source": [
    "from nltk.stem.porter import PorterStemmer\n",
    "\n",
    "porter = PorterStemmer()\n",
    "\n",
    "def tokenizer_porter(text):\n",
    "    return [porter.stem(word) for word in text.split()]\n",
    "\n",
    "tokenizer_porter('runners like running and thus they run')"
   ]
  },
  {
   "cell_type": "markdown",
   "id": "c71c411d",
   "metadata": {},
   "source": [
    "## Removing stops words: go, the, at, a, and etc"
   ]
  },
  {
   "cell_type": "code",
   "execution_count": 421,
   "id": "30fe9639",
   "metadata": {},
   "outputs": [
    {
     "data": {
      "text/plain": [
       "['runner', 'like', 'run', 'run', 'lot']"
      ]
     },
     "execution_count": 421,
     "metadata": {},
     "output_type": "execute_result"
    }
   ],
   "source": [
    "stop = stopwords.words('english')\n",
    "[w for w in tokenizer_porter('a runner likes running and runs a lot')[-10:] if w not in stop]"
   ]
  },
  {
   "cell_type": "markdown",
   "id": "a73ffcb2",
   "metadata": {},
   "source": [
    "## First, we will define a tokenizer function that cleans the unprocessed text data and separate it into word tokens while removing stop-words:\n"
   ]
  },
  {
   "cell_type": "code",
   "execution_count": 422,
   "id": "d8d60ad4",
   "metadata": {},
   "outputs": [],
   "source": [
    "stop = stopwords.words('english')\n",
    "\n",
    "def tokenizer(text):\n",
    "    text = re.sub('<[^>]*>', '', text)\n",
    "    emoticons = re.findall('(?::|;|=)(?:-)?(?:\\)|\\(|D|P)', text.lower())\n",
    "    text = re.sub('[\\W]+', ' ', text.lower()) +\\\n",
    "        ' '.join(emoticons).replace('-', '')\n",
    "    tokenized = [w for w in text.split() if w not in stop]\n",
    "    return tokenized"
   ]
  },
  {
   "cell_type": "markdown",
   "id": "c83f88e1",
   "metadata": {},
   "source": [
    "## Next, we will define a generator function, stream_docs, that reads in and returns one document at a time:\n"
   ]
  },
  {
   "cell_type": "code",
   "execution_count": 423,
   "id": "36c4a7c0",
   "metadata": {},
   "outputs": [],
   "source": [
    "def stream_docs(path):\n",
    "    with open(path, 'r', encoding='utf-8') as csv:\n",
    "        next(csv) # skip header\n",
    "        for line in csv:\n",
    "            text, label = line[:-3], int(line[-2])\n",
    "            yield text, label"
   ]
  },
  {
   "cell_type": "markdown",
   "id": "ea9271e4",
   "metadata": {},
   "source": [
    "## To verify that our stream_docs function works correctly, let's read in the first document from the file, which should return a tuple consisting  of the Tweet text as well as the corresponding class label:\n"
   ]
  },
  {
   "cell_type": "code",
   "execution_count": 424,
   "id": "4148536e",
   "metadata": {},
   "outputs": [
    {
     "data": {
      "text/plain": [
       "('5.74948705591165E+017,5.74948705591165E+017,@halalflaws @biebervalue @greenlinerzjm I read them in context.No change in meaning. The history of Islamic slavery. https://t.co/xWJzpSodGj,none',\n",
       " 0)"
      ]
     },
     "execution_count": 424,
     "metadata": {},
     "output_type": "execute_result"
    }
   ],
   "source": [
    "next(stream_docs(path='data/twitter_parsed_dataset.csv'))"
   ]
  },
  {
   "cell_type": "code",
   "execution_count": 425,
   "id": "3a73501f",
   "metadata": {},
   "outputs": [],
   "source": [
    "# We will now define a function, get_minibatch, that will take a document stream \n",
    "# from the stream_docs function and return a particular number of documents\n",
    "# specified by the size parameter:\n",
    "\n",
    "def get_minibatch(doc_stream, size):\n",
    "    docs, y = [], []\n",
    "    try:\n",
    "        for _ in range(size):\n",
    "            text, label = next(doc_stream)\n",
    "            docs.append(text)\n",
    "            y.append(label)\n",
    "    except StopIteration:\n",
    "        return None, None\n",
    "    return docs, y"
   ]
  },
  {
   "cell_type": "code",
   "execution_count": 426,
   "id": "1354fbc8",
   "metadata": {},
   "outputs": [],
   "source": [
    "from sklearn.feature_extraction.text import HashingVectorizer\n",
    "# from distutils.version import LooseVersion as Version\n",
    "# from sklearn import __version__ as sklearn_version\n",
    "\n",
    "\n",
    "vect = HashingVectorizer(decode_error='ignore',\n",
    "                         n_features=2**21,\n",
    "                         preprocessor=None,\n",
    "                         tokenizer=tokenizer\n",
    "                        )\n",
    "doc_stream = stream_docs(path='data/processed_data.csv')"
   ]
  },
  {
   "cell_type": "markdown",
   "id": "d0b686f2",
   "metadata": {},
   "source": [
    "# Splitting our dataset into training and testing set for training and evaluating our model using sklearn train_test_split method"
   ]
  },
  {
   "cell_type": "code",
   "execution_count": 427,
   "id": "66855c62",
   "metadata": {},
   "outputs": [],
   "source": [
    "from sklearn.model_selection import train_test_split\n",
    "\n",
    "X, y = dataframe.Tweets, dataframe.Label\n",
    "X_train, X_test, y_train, y_test = train_test_split(X, y, test_size=0.3, random_state=42)"
   ]
  },
  {
   "cell_type": "code",
   "execution_count": 428,
   "id": "342bf278",
   "metadata": {},
   "outputs": [
    {
     "name": "stderr",
     "output_type": "stream",
     "text": [
      "C:\\Users\\Ben\\anaconda3\\lib\\site-packages\\sklearn\\feature_extraction\\text.py:489: UserWarning: The parameter 'token_pattern' will not be used since 'tokenizer' is not None'\n",
      "  warnings.warn(\"The parameter 'token_pattern' will not be used\"\n"
     ]
    }
   ],
   "source": [
    "X_train = vect.fit_transform(X_train)"
   ]
  },
  {
   "cell_type": "code",
   "execution_count": 429,
   "id": "fcf528e3",
   "metadata": {},
   "outputs": [],
   "source": [
    "X_test = vect.transform(X_test)"
   ]
  },
  {
   "cell_type": "markdown",
   "id": "2245777f",
   "metadata": {},
   "source": [
    "# Evaluating different models: SVM, KNN"
   ]
  },
  {
   "cell_type": "markdown",
   "id": "2eed4f04",
   "metadata": {},
   "source": [
    "## KNN"
   ]
  },
  {
   "cell_type": "code",
   "execution_count": 430,
   "id": "70d359c6",
   "metadata": {},
   "outputs": [
    {
     "data": {
      "text/plain": [
       "KNeighborsClassifier()"
      ]
     },
     "execution_count": 430,
     "metadata": {},
     "output_type": "execute_result"
    }
   ],
   "source": [
    "from sklearn.neighbors import KNeighborsClassifier as KNN\n",
    "knn_clf = KNN()\n",
    "\n",
    "knn_clf.fit(X_train, y_train)"
   ]
  },
  {
   "cell_type": "code",
   "execution_count": 498,
   "id": "e0d26751",
   "metadata": {},
   "outputs": [],
   "source": [
    "y_pred = knn_clf.predict(X_test)"
   ]
  },
  {
   "cell_type": "code",
   "execution_count": 433,
   "id": "89d0fa0d",
   "metadata": {},
   "outputs": [
    {
     "name": "stdout",
     "output_type": "stream",
     "text": [
      "Accuracy: 0.764\n"
     ]
    }
   ],
   "source": [
    "print('Accuracy: %.3f' % knn_clf.score(X_test, y_test))"
   ]
  },
  {
   "cell_type": "markdown",
   "id": "8bdfe9af",
   "metadata": {},
   "source": [
    "## Checking the accuracy of our KNN"
   ]
  },
  {
   "cell_type": "code",
   "execution_count": 53,
   "id": "e2e15759",
   "metadata": {},
   "outputs": [],
   "source": [
    "from sklearn.metrics import f1_score, recall_score, precision_score, accuracy_score"
   ]
  },
  {
   "cell_type": "code",
   "execution_count": 432,
   "id": "dcfaf16a",
   "metadata": {},
   "outputs": [
    {
     "name": "stdout",
     "output_type": "stream",
     "text": [
      "Accuracy: 0.764133773177113\n",
      "Recall: 0.15230419508162843\n",
      "Precision: 0.9424552429667519\n",
      "F1_score: 0.2622309197651663\n"
     ]
    }
   ],
   "source": [
    "print(f'Accuracy: {accuracy_score(y_test, y_pred)}')\n",
    "print(f'Recall: {recall_score(y_test, y_pred)}')\n",
    "print(f'Precision: {precision_score(y_test, y_pred)}')\n",
    "print(f'F1_score: {f1_score(y_test, y_pred)}')"
   ]
  },
  {
   "cell_type": "code",
   "execution_count": 499,
   "id": "85d7fcac",
   "metadata": {},
   "outputs": [
    {
     "data": {
      "text/plain": [
       "<AxesSubplot:>"
      ]
     },
     "execution_count": 499,
     "metadata": {},
     "output_type": "execute_result"
    },
    {
     "data": {
      "image/png": "[encoded data removed]",
      "text/plain": [
       "<Figure size 432x288 with 1 Axes>"
      ]
     },
     "metadata": {},
     "output_type": "display_data"
    }
   ],
   "source": [
    "from sklearn.metrics import confusion_matrix\n",
    "conf_mat = confusion_matrix(y_test, y_pred)\n",
    "sns.heatmap(conf_mat, square=True, annot=True, cmap='Blues', fmt='d', cbar=False)"
   ]
  },
  {
   "cell_type": "code",
   "execution_count": 441,
   "id": "dff1fb4f",
   "metadata": {},
   "outputs": [
    {
     "name": "stdout",
     "output_type": "stream",
     "text": [
      "Prediction: Bully\n",
      "Probability: 80.00%\n"
     ]
    }
   ],
   "source": [
    "label = {0:'None Bully', 1:'Bully'}\n",
    "\n",
    "example = [\"you are a dick\"]\n",
    "# example = [\"haha, evil dick & sex whore i know how retarded you are and slut\"]\n",
    "X = vect.transform(example)\n",
    "print('Prediction: %s\\nProbability: %.2f%%' %\\\n",
    "      (label[knn_clf.predict(X)[0]], \n",
    "       np.max(knn_clf.predict_proba(X))*100))"
   ]
  },
  {
   "cell_type": "markdown",
   "id": "e676a114",
   "metadata": {},
   "source": [
    "## SVM"
   ]
  },
  {
   "cell_type": "code",
   "execution_count": 442,
   "id": "d1869a77",
   "metadata": {},
   "outputs": [
    {
     "data": {
      "text/plain": [
       "SVC()"
      ]
     },
     "execution_count": 442,
     "metadata": {},
     "output_type": "execute_result"
    }
   ],
   "source": [
    "from sklearn.svm import SVC\n",
    "svm_clf = SVC()\n",
    "\n",
    "svm_clf.fit(X_train, y_train)"
   ]
  },
  {
   "cell_type": "code",
   "execution_count": 443,
   "id": "c90c7f2d",
   "metadata": {},
   "outputs": [
    {
     "name": "stdout",
     "output_type": "stream",
     "text": [
      "Accuracy: 0.913\n"
     ]
    }
   ],
   "source": [
    "print('Accuracy: %.3f' % svm_clf.score(X_test, y_test))"
   ]
  },
  {
   "cell_type": "code",
   "execution_count": 502,
   "id": "c31156d5",
   "metadata": {},
   "outputs": [],
   "source": [
    "y_pred = svm_clf.predict(X_test)"
   ]
  },
  {
   "cell_type": "code",
   "execution_count": 445,
   "id": "a016c36e",
   "metadata": {},
   "outputs": [
    {
     "name": "stdout",
     "output_type": "stream",
     "text": [
      "Accuracy: 0.912922306904789\n",
      "Recall: 0.7402355858648481\n",
      "Precision: 0.928941908713693\n",
      "F1_score: 0.82392179413456\n"
     ]
    }
   ],
   "source": [
    "print(f'Accuracy: {accuracy_score(y_test, y_pred)}')\n",
    "print(f'Recall: {recall_score(y_test, y_pred)}')\n",
    "print(f'Precision: {precision_score(y_test, y_pred)}')\n",
    "print(f'F1_score: {f1_score(y_test, y_pred)}')"
   ]
  },
  {
   "cell_type": "code",
   "execution_count": 503,
   "id": "3b0f3641",
   "metadata": {},
   "outputs": [
    {
     "data": {
      "text/plain": [
       "<AxesSubplot:>"
      ]
     },
     "execution_count": 503,
     "metadata": {},
     "output_type": "execute_result"
    },
    {
     "data": {
      "image/png": "[encoded data removed]",
      "text/plain": [
       "<Figure size 432x288 with 1 Axes>"
      ]
     },
     "metadata": {},
     "output_type": "display_data"
    }
   ],
   "source": [
    "from sklearn.metrics import confusion_matrix\n",
    "conf_mat = confusion_matrix(y_test, y_pred)\n",
    "sns.heatmap(conf_mat, square=True, annot=True, cmap='Blues', fmt='d', cbar=False)"
   ]
  },
  {
   "cell_type": "code",
   "execution_count": 450,
   "id": "7d5ff4fd",
   "metadata": {},
   "outputs": [
    {
     "name": "stdout",
     "output_type": "stream",
     "text": [
      "Prediction: Bully\n"
     ]
    }
   ],
   "source": [
    "label = {0:'None Bully', 1:'Bully'}\n",
    "\n",
    "# example = [\"According to Holly from Geordie Shore, sexy \"\"Sassy - halfway between slut and classy\"]\n",
    "example = [\"you are a racist\"]\n",
    "X = vect.transform(example)\n",
    "print(f'Prediction: {label[svm_clf.predict(X)[0]]}' )"
   ]
  },
  {
   "cell_type": "markdown",
   "id": "dd8b1833",
   "metadata": {},
   "source": [
    "## Decision Tree"
   ]
  },
  {
   "cell_type": "code",
   "execution_count": 451,
   "id": "a5ca30d8",
   "metadata": {},
   "outputs": [
    {
     "data": {
      "text/plain": [
       "DecisionTreeClassifier()"
      ]
     },
     "execution_count": 451,
     "metadata": {},
     "output_type": "execute_result"
    }
   ],
   "source": [
    "from sklearn.tree import DecisionTreeClassifier\n",
    "tree_clf = DecisionTreeClassifier()\n",
    "\n",
    "tree_clf.fit(X_train, y_train,)"
   ]
  },
  {
   "cell_type": "code",
   "execution_count": 452,
   "id": "7bc16379",
   "metadata": {},
   "outputs": [
    {
     "name": "stdout",
     "output_type": "stream",
     "text": [
      "Accuracy: 0.901\n"
     ]
    }
   ],
   "source": [
    "print('Accuracy: %.3f' % tree_clf.score(X_test, y_test))"
   ]
  },
  {
   "cell_type": "code",
   "execution_count": 453,
   "id": "5ece8612",
   "metadata": {},
   "outputs": [],
   "source": [
    "y_pred = tree_clf.predict(X_test)"
   ]
  },
  {
   "cell_type": "code",
   "execution_count": 454,
   "id": "88e1a021",
   "metadata": {},
   "outputs": [
    {
     "name": "stdout",
     "output_type": "stream",
     "text": [
      "Accuracy: 0.9006938914799226\n",
      "Recall: 0.7983054350072329\n",
      "Precision: 0.8338009928771855\n",
      "F1_score: 0.8156672297297297\n"
     ]
    }
   ],
   "source": [
    "print(f'Accuracy: {accuracy_score(y_test, y_pred)}')\n",
    "print(f'Recall: {recall_score(y_test, y_pred)}')\n",
    "print(f'Precision: {precision_score(y_test, y_pred)}')\n",
    "print(f'F1_score: {f1_score(y_test, y_pred)}')"
   ]
  },
  {
   "cell_type": "code",
   "execution_count": 455,
   "id": "f782bcd5",
   "metadata": {},
   "outputs": [
    {
     "data": {
      "text/plain": [
       "<AxesSubplot:>"
      ]
     },
     "execution_count": 455,
     "metadata": {},
     "output_type": "execute_result"
    },
    {
     "data": {
      "image/png": "[encoded data removed]",
      "text/plain": [
       "<Figure size 432x288 with 1 Axes>"
      ]
     },
     "metadata": {},
     "output_type": "display_data"
    }
   ],
   "source": [
    "from sklearn.metrics import confusion_matrix\n",
    "conf_mat = confusion_matrix(y_test, y_pred)\n",
    "sns.heatmap(conf_mat, square=True, annot=True, cmap='Blues', fmt='d', cbar=False)"
   ]
  },
  {
   "cell_type": "code",
   "execution_count": 460,
   "id": "57d05a34",
   "metadata": {},
   "outputs": [
    {
     "name": "stdout",
     "output_type": "stream",
     "text": [
      "Prediction: Bully\n",
      "Probability: 100.00%\n"
     ]
    }
   ],
   "source": [
    "label = {0:'None Bully', 1:'Bully'}\n",
    "\n",
    "# example = [\"dick head and fool hating people\"]\n",
    "example = [\"you nigerians are racist\"]\n",
    "X = vect.transform(example)\n",
    "print('Prediction: %s\\nProbability: %.2f%%' %\\\n",
    "      (label[tree_clf.predict(X)[0]], \n",
    "       np.max(tree_clf.predict_proba(X))*100))"
   ]
  },
  {
   "cell_type": "code",
   "execution_count": 462,
   "id": "32e1ee99",
   "metadata": {},
   "outputs": [
    {
     "data": {
      "text/plain": [
       "SGDClassifier(loss='log', random_state=1)"
      ]
     },
     "execution_count": 462,
     "metadata": {},
     "output_type": "execute_result"
    }
   ],
   "source": [
    "from sklearn.linear_model import SGDClassifier\n",
    "classes = np.array([0, 1])\n",
    "sgd_clf = SGDClassifier(loss='log', random_state=1)\n",
    "\n",
    "sgd_clf.fit(X_train, y_train)"
   ]
  },
  {
   "cell_type": "code",
   "execution_count": 463,
   "id": "a1d54479",
   "metadata": {},
   "outputs": [
    {
     "name": "stdout",
     "output_type": "stream",
     "text": [
      "Accuracy: 0.882\n"
     ]
    }
   ],
   "source": [
    "print('Accuracy: %.3f' % sgd_clf.score(X_test, y_test))"
   ]
  },
  {
   "cell_type": "code",
   "execution_count": 500,
   "id": "ab29be8f",
   "metadata": {},
   "outputs": [],
   "source": [
    "y_pred = sgd_clf.predict(X_test)"
   ]
  },
  {
   "cell_type": "code",
   "execution_count": 465,
   "id": "504c880a",
   "metadata": {},
   "outputs": [
    {
     "name": "stdout",
     "output_type": "stream",
     "text": [
      "Accuracy: 0.8824365828688432\n",
      "Recall: 0.6199628022318661\n",
      "Precision: 0.929368029739777\n",
      "F1_score: 0.7437709185570843\n"
     ]
    }
   ],
   "source": [
    "print(f'Accuracy: {accuracy_score(y_test, y_pred)}')\n",
    "print(f'Recall: {recall_score(y_test, y_pred)}')\n",
    "print(f'Precision: {precision_score(y_test, y_pred)}')\n",
    "print(f'F1_score: {f1_score(y_test, y_pred)}')"
   ]
  },
  {
   "cell_type": "code",
   "execution_count": 501,
   "id": "d8b5325c",
   "metadata": {},
   "outputs": [
    {
     "data": {
      "text/plain": [
       "<AxesSubplot:>"
      ]
     },
     "execution_count": 501,
     "metadata": {},
     "output_type": "execute_result"
    },
    {
     "data": {
      "image/png": "[encoded data removed]",
      "text/plain": [
       "<Figure size 432x288 with 1 Axes>"
      ]
     },
     "metadata": {},
     "output_type": "display_data"
    }
   ],
   "source": [
    "from sklearn.metrics import confusion_matrix\n",
    "conf_mat = confusion_matrix(y_test, y_pred)\n",
    "sns.heatmap(conf_mat, square=True, annot=True, cmap='Blues', fmt='d', cbar=False)"
   ]
  },
  {
   "cell_type": "code",
   "execution_count": 467,
   "id": "130480be",
   "metadata": {},
   "outputs": [
    {
     "name": "stdout",
     "output_type": "stream",
     "text": [
      "Prediction: Bully\n",
      "Probability: 61.69%\n"
     ]
    }
   ],
   "source": [
    "label = {0:'None Bully', 1:'Bully'}\n",
    "\n",
    "example = [\"dick head and thief, i hate you\"]\n",
    "# example = [\"scammer\"]\n",
    "X = vect.transform(example)\n",
    "print('Prediction: %s\\nProbability: %.2f%%' %\\\n",
    "      (label[sgd_clf.predict(X)[0]], \n",
    "       np.max(sgd_clf.predict_proba(X))*100))"
   ]
  },
  {
   "cell_type": "code",
   "execution_count": 468,
   "id": "3eb882ad",
   "metadata": {},
   "outputs": [
    {
     "data": {
      "text/plain": [
       "VotingClassifier(estimators=[('knn_clf', KNeighborsClassifier()),\n",
       "                             ('tree_clf', DecisionTreeClassifier()),\n",
       "                             ('svm', SVC()),\n",
       "                             ('sgd_clf',\n",
       "                              SGDClassifier(loss='log', random_state=1))])"
      ]
     },
     "execution_count": 468,
     "metadata": {},
     "output_type": "execute_result"
    }
   ],
   "source": [
    "# combining our models\n",
    "from sklearn.ensemble import VotingClassifier\n",
    "\n",
    "ensemble_classifier = VotingClassifier(\n",
    "    estimators=[('knn_clf', knn_clf),\n",
    "                ('tree_clf', tree_clf),\n",
    "                ('svm', svm_clf),\n",
    "                ('sgd_clf', sgd_clf)],\n",
    "    voting='hard')\n",
    "\n",
    "ensemble_classifier.fit(X_train, y_train)"
   ]
  },
  {
   "cell_type": "code",
   "execution_count": 469,
   "id": "7e7a6f0a",
   "metadata": {},
   "outputs": [
    {
     "data": {
      "text/plain": [
       "0.9095407566302652"
      ]
     },
     "execution_count": 469,
     "metadata": {},
     "output_type": "execute_result"
    }
   ],
   "source": [
    "ensemble_classifier.score(X_train, y_train)"
   ]
  },
  {
   "cell_type": "code",
   "execution_count": 481,
   "id": "0be06026",
   "metadata": {},
   "outputs": [
    {
     "name": "stdout",
     "output_type": "stream",
     "text": [
      "Prediction: Bully\n"
     ]
    }
   ],
   "source": [
    "example = [\"dick head and thief, i hate you\"]\n",
    "\n",
    "X = vect.transform(example)\n",
    "ensemble_classifier.predict(X)\n",
    "print(f'Prediction: {(label[tree_clf.predict(X)[0]])}')"
   ]
  },
  {
   "cell_type": "markdown",
   "id": "fe9d1ee6",
   "metadata": {},
   "source": [
    "## From our models results and accuracy, we can see that the Decision tree and KNN models seems perform well on our data"
   ]
  },
  {
   "cell_type": "code",
   "execution_count": 508,
   "id": "a8c33416",
   "metadata": {},
   "outputs": [
    {
     "data": {
      "text/plain": [
       "['ensemble_classifier.joblib']"
      ]
     },
     "execution_count": 508,
     "metadata": {},
     "output_type": "execute_result"
    }
   ],
   "source": [
    "# lastly, we'll save our models\n",
    "\n",
    "\n",
    "import joblib\n",
    "\n",
    "joblib.dump(knn_clf,'knn.joblib')\n",
    "joblib.dump(svm_clf,'svm.joblib')\n",
    "joblib.dump(tree_clf,'tree.joblib')\n",
    "joblib.dump(sgd_clf,'sgd.joblib')\n",
    "joblib.dump(ensemble_classifier, 'ensemble_classifier.joblib')"
   ]
  },
  {
   "cell_type": "code",
   "execution_count": null,
   "id": "625e6911",
   "metadata": {},
   "outputs": [],
   "source": []
  }
 ],
 "metadata": {
  "kernelspec": {
   "display_name": "Python 3",
   "language": "python",
   "name": "python3"
  },
  "language_info": {
   "codemirror_mode": {
    "name": "ipython",
    "version": 3
   },
   "file_extension": ".py",
   "mimetype": "text/x-python",
   "name": "python",
   "nbconvert_exporter": "python",
   "pygments_lexer": "ipython3",
   "version": "3.8.8"
  }
 },
 "nbformat": 4,
 "nbformat_minor": 5
}
